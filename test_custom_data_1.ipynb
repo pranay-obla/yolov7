{
 "cells": [
  {
   "cell_type": "code",
   "execution_count": 12,
   "metadata": {},
   "outputs": [
    {
     "name": "stdout",
     "output_type": "stream",
     "text": [
      "Namespace(weights=['runs\\\\train\\\\exp\\\\weights\\\\best.pt'], source='C:\\\\Users\\\\prana\\\\Desktop\\\\Internship\\\\yolov7\\\\custom_test_1', img_size=640, conf_thres=0.25, iou_thres=0.45, device='', view_img=False, save_txt=False, save_conf=False, nosave=False, classes=None, agnostic_nms=False, augment=False, update=False, project='runs/detect', name='exp', exist_ok=False, no_trace=False)\n",
      "Fusing layers... \n",
      "RepConv.fuse_repvgg_block\n",
      "RepConv.fuse_repvgg_block\n",
      "RepConv.fuse_repvgg_block\n",
      "IDetect.fuse\n",
      " Convert model to Traced-model... \n",
      " traced_script_module saved! \n",
      " model is traced! \n",
      "\n",
      "3 Products, Done. (1328.0ms) Inference, (0.0ms) NMS\n",
      " The image with the result is saved in: runs\\detect\\exp\\Liverpool_cam04_630_Clip2_vk1_integrated_15_08_23_frame_315.jpg\n",
      "3 Products, Done. (1116.9ms) Inference, (0.0ms) NMS\n",
      " The image with the result is saved in: runs\\detect\\exp\\Liverpool_cam04_630_Clip2_vk1_integrated_15_08_23_frame_318.jpg\n",
      "4 Products, Done. (1051.7ms) Inference, (0.0ms) NMS\n",
      " The image with the result is saved in: runs\\detect\\exp\\Liverpool_cam04_630_Clip2_vk1_integrated_15_08_23_frame_319.jpg\n",
      "4 Products, Done. (1114.9ms) Inference, (0.0ms) NMS\n",
      " The image with the result is saved in: runs\\detect\\exp\\Liverpool_cam04_630_Clip2_vk1_integrated_15_08_23_frame_399.jpg\n",
      "4 Products, Done. (1444.8ms) Inference, (1.2ms) NMS\n",
      " The image with the result is saved in: runs\\detect\\exp\\Liverpool_cam04_630_Clip2_vk1_integrated_15_08_23_frame_400.jpg\n",
      "4 Products, Done. (893.3ms) Inference, (0.0ms) NMS\n",
      " The image with the result is saved in: runs\\detect\\exp\\Liverpool_cam04_630_Clip2_vk1_integrated_15_08_23_frame_402.jpg\n",
      "4 Products, Done. (843.1ms) Inference, (0.0ms) NMS\n",
      " The image with the result is saved in: runs\\detect\\exp\\Liverpool_cam04_630_Clip2_vk1_integrated_15_08_23_frame_403.jpg\n",
      "1 Swipe_machine, 5 Products, Done. (819.0ms) Inference, (0.0ms) NMS\n",
      " The image with the result is saved in: runs\\detect\\exp\\Liverpool_cam04_630_Clip2_vk1_integrated_15_08_23_frame_653.jpg\n",
      "5 Products, Done. (811.4ms) Inference, (0.0ms) NMS\n",
      " The image with the result is saved in: runs\\detect\\exp\\Liverpool_cam04_630_Clip2_vk1_integrated_15_08_23_frame_657.jpg\n",
      "1 Swipe_machine, 5 Products, Done. (1121.5ms) Inference, (0.0ms) NMS\n",
      " The image with the result is saved in: runs\\detect\\exp\\Liverpool_cam04_630_Clip2_vk1_integrated_15_08_23_frame_659.jpg\n",
      "Done. (12.463s)\n"
     ]
    },
    {
     "name": "stderr",
     "output_type": "stream",
     "text": [
      "YOLOR  51c6b8a torch 2.0.1+cpu CPU\n",
      "\n",
      "Model Summary: 314 layers, 36497954 parameters, 6194944 gradients\n",
      "C:\\Users\\prana\\AppData\\Roaming\\Python\\Python311\\site-packages\\torch\\functional.py:504: UserWarning: torch.meshgrid: in an upcoming release, it will be required to pass the indexing argument. (Triggered internally at ..\\aten\\src\\ATen\\native\\TensorShape.cpp:3484.)\n",
      "  return _VF.meshgrid(tensors, **kwargs)  # type: ignore[attr-defined]\n"
     ]
    }
   ],
   "source": [
    "!python detect.py --source C:\\Users\\prana\\Desktop\\Internship\\yolov7\\custom_test_1 --weights runs\\train\\exp\\weights\\best.pt"
   ]
  }
 ],
 "metadata": {
  "kernelspec": {
   "display_name": "Python 3",
   "language": "python",
   "name": "python3"
  },
  "language_info": {
   "codemirror_mode": {
    "name": "ipython",
    "version": 3
   },
   "file_extension": ".py",
   "mimetype": "text/x-python",
   "name": "python",
   "nbconvert_exporter": "python",
   "pygments_lexer": "ipython3",
   "version": "3.11.4"
  },
  "orig_nbformat": 4
 },
 "nbformat": 4,
 "nbformat_minor": 2
}
