{
 "cells": [
  {
   "cell_type": "code",
   "execution_count": 12,
   "metadata": {},
   "outputs": [
    {
     "name": "stdout",
     "output_type": "stream",
     "text": [
      "Namespace(weights=['runs\\\\train\\\\exp\\\\weights\\\\best.pt'], source='C:\\\\Users\\\\prana\\\\Desktop\\\\Internship\\\\yolov7\\\\custom_test_1', img_size=640, conf_thres=0.25, iou_thres=0.45, device='', view_img=False, save_txt=False, save_conf=False, nosave=False, classes=None, agnostic_nms=False, augment=False, update=False, project='runs/detect', name='exp', exist_ok=False, no_trace=False)\n",
      "Fusing layers... \n",
      "RepConv.fuse_repvgg_block\n",
      "RepConv.fuse_repvgg_block\n",
      "RepConv.fuse_repvgg_block\n",
      "IDetect.fuse\n",
      " Convert model to Traced-model... \n",
      " traced_script_module saved! \n",
      " model is traced! \n",
      "\n",
      "3 Products, Done. (1328.0ms) Inference, (0.0ms) NMS\n",
      " The image with the result is saved in: runs\\detect\\exp\\Liverpool_cam04_630_Clip2_vk1_integrated_15_08_23_frame_315.jpg\n",
      "3 Products, Done. (1116.9ms) Inference, (0.0ms) NMS\n",
      " The image with the result is saved in: runs\\detect\\exp\\Liverpool_cam04_630_Clip2_vk1_integrated_15_08_23_frame_318.jpg\n",
      "4 Products, Done. (1051.7ms) Inference, (0.0ms) NMS\n",
      " The image with the result is saved in: runs\\detect\\exp\\Liverpool_cam04_630_Clip2_vk1_integrated_15_08_23_frame_319.jpg\n",
      "4 Products, Done. (1114.9ms) Inference, (0.0ms) NMS\n",
      " The image with the result is saved in: runs\\detect\\exp\\Liverpool_cam04_630_Clip2_vk1_integrated_15_08_23_frame_399.jpg\n",
      "4 Products, Done. (1444.8ms) Inference, (1.2ms) NMS\n",
      " The image with the result is saved in: runs\\detect\\exp\\Liverpool_cam04_630_Clip2_vk1_integrated_15_08_23_frame_400.jpg\n",
      "4 Products, Done. (893.3ms) Inference, (0.0ms) NMS\n",
      " The image with the result is saved in: runs\\detect\\exp\\Liverpool_cam04_630_Clip2_vk1_integrated_15_08_23_frame_402.jpg\n",
      "4 Products, Done. (843.1ms) Inference, (0.0ms) NMS\n",
      " The image with the result is saved in: runs\\detect\\exp\\Liverpool_cam04_630_Clip2_vk1_integrated_15_08_23_frame_403.jpg\n",
      "1 Swipe_machine, 5 Products, Done. (819.0ms) Inference, (0.0ms) NMS\n",
      " The image with the result is saved in: runs\\detect\\exp\\Liverpool_cam04_630_Clip2_vk1_integrated_15_08_23_frame_653.jpg\n",
      "5 Products, Done. (811.4ms) Inference, (0.0ms) NMS\n",
      " The image with the result is saved in: runs\\detect\\exp\\Liverpool_cam04_630_Clip2_vk1_integrated_15_08_23_frame_657.jpg\n",
      "1 Swipe_machine, 5 Products, Done. (1121.5ms) Inference, (0.0ms) NMS\n",
      " The image with the result is saved in: runs\\detect\\exp\\Liverpool_cam04_630_Clip2_vk1_integrated_15_08_23_frame_659.jpg\n",
      "Done. (12.463s)\n"
     ]
    },
    {
     "name": "stderr",
     "output_type": "stream",
     "text": [
      "YOLOR  51c6b8a torch 2.0.1+cpu CPU\n",
      "\n",
      "Model Summary: 314 layers, 36497954 parameters, 6194944 gradients\n",
      "C:\\Users\\prana\\AppData\\Roaming\\Python\\Python311\\site-packages\\torch\\functional.py:504: UserWarning: torch.meshgrid: in an upcoming release, it will be required to pass the indexing argument. (Triggered internally at ..\\aten\\src\\ATen\\native\\TensorShape.cpp:3484.)\n",
      "  return _VF.meshgrid(tensors, **kwargs)  # type: ignore[attr-defined]\n"
     ]
    }
   ],
   "source": [
    "!python detect.py --source C:\\Users\\prana\\Desktop\\Internship\\yolov7\\custom_test_1 --weights runs\\train\\exp\\weights\\best.pt"
   ]
  },
  {
   "cell_type": "code",
   "execution_count": 2,
   "metadata": {},
   "outputs": [
    {
     "name": "stdout",
     "output_type": "stream",
     "text": [
      "Namespace(weights=['runs\\\\train\\\\exp\\\\weights\\\\best.pt'], data='data\\\\custom1.yaml', batch_size=8, img_size=640, conf_thres=0.001, iou_thres=0.65, task='val', device='', single_cls=False, augment=False, verbose=False, save_txt=False, save_hybrid=False, save_conf=False, save_json=False, project='runs/test', name='test_metrics', exist_ok=False, no_trace=False, v5_metric=False)\n",
      "Fusing layers... \n",
      "RepConv.fuse_repvgg_block\n",
      "RepConv.fuse_repvgg_block\n",
      "RepConv.fuse_repvgg_block\n",
      "IDetect.fuse\n",
      " Convert model to Traced-model... \n",
      " traced_script_module saved! \n",
      " model is traced! \n",
      "\n",
      "                 all          21         115       0.763       0.442       0.336       0.117\n",
      "       Swipe_machine          21          16       0.762           1       0.758       0.239\n",
      "             Product          21          73       0.289       0.767       0.525       0.208\n",
      "              Person          21          21           1           0      0.0597      0.0202\n",
      "                Head          21           5           1           0           0           0\n",
      "Speed: 1234.9/36.9/1271.8 ms inference/NMS/total per 640x640 image at batch-size 8\n",
      "Results saved to runs\\test\\test_metrics\n"
     ]
    },
    {
     "name": "stderr",
     "output_type": "stream",
     "text": [
      "YOLOR  3b52cd7 torch 2.0.1+cpu CPU\n",
      "\n",
      "Model Summary: 314 layers, 36497954 parameters, 6194944 gradients\n",
      "\n",
      "\u001b[34m\u001b[1mval: \u001b[0mScanning 'C:\\Users\\prana\\Desktop\\Internship\\yolov7\\custom_dataset_1\\val\\labels.cache' images and labels... 16 found, 5 missing, 0 empty, 0 corrupted: 100%|██████████| 21/21 [00:00<?, ?it/s]\n",
      "\u001b[34m\u001b[1mval: \u001b[0mScanning 'C:\\Users\\prana\\Desktop\\Internship\\yolov7\\custom_dataset_1\\val\\labels.cache' images and labels... 16 found, 5 missing, 0 empty, 0 corrupted: 100%|██████████| 21/21 [00:00<?, ?it/s]\n",
      "\n",
      "               Class      Images      Labels           P           R      mAP@.5  mAP@.5:.95:   0%|          | 0/3 [00:00<?, ?it/s]\n",
      "               Class      Images      Labels           P           R      mAP@.5  mAP@.5:.95:  33%|███▎      | 1/3 [00:15<00:30, 15.21s/it]\n",
      "               Class      Images      Labels           P           R      mAP@.5  mAP@.5:.95:  67%|██████▋   | 2/3 [00:23<00:11, 11.16s/it]\n",
      "               Class      Images      Labels           P           R      mAP@.5  mAP@.5:.95: 100%|██████████| 3/3 [00:28<00:00,  8.42s/it]\n",
      "               Class      Images      Labels           P           R      mAP@.5  mAP@.5:.95: 100%|██████████| 3/3 [00:28<00:00,  9.56s/it]\n"
     ]
    }
   ],
   "source": [
    "!python test.py --data data\\custom1.yaml --img 640 --batch 8 --conf 0.001 --iou 0.65 --weights runs\\train\\exp\\weights\\best.pt --name test_metrics"
   ]
  },
  {
   "cell_type": "code",
   "execution_count": 3,
   "metadata": {},
   "outputs": [
    {
     "name": "stderr",
     "output_type": "stream",
     "text": [
      "python: can't open file 'c:\\\\Users\\\\prana\\\\Desktop\\\\Internship\\\\yolov7\\\\val.py': [Errno 2] No such file or directory\n"
     ]
    }
   ],
   "source": [
    "!python val.py --data data\\custom1.yaml --img 640 --batch 8 --conf 0.001 --iou 0.65 --weights runs\\train\\exp\\weights\\best.pt --name val_metrics"
   ]
  }
 ],
 "metadata": {
  "kernelspec": {
   "display_name": "Python 3 (ipykernel)",
   "language": "python",
   "name": "python3"
  },
  "language_info": {
   "codemirror_mode": {
    "name": "ipython",
    "version": 3
   },
   "file_extension": ".py",
   "mimetype": "text/x-python",
   "name": "python",
   "nbconvert_exporter": "python",
   "pygments_lexer": "ipython3",
   "version": "3.11.4"
  }
 },
 "nbformat": 4,
 "nbformat_minor": 4
}
