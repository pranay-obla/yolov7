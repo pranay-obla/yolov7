{
 "cells": [
  {
   "cell_type": "code",
   "execution_count": 5,
   "metadata": {},
   "outputs": [
    {
     "name": "stdout",
     "output_type": "stream",
     "text": [
      "Namespace(weights=['runs\\\\train\\\\exp\\\\weights\\\\best.pt'], source='C:\\\\Users\\\\prana\\\\Desktop\\\\Internship\\\\yolov7\\\\custom_test_1\\\\Liverpool_cam04_630_Clip2_vk1_integrated_15_08_23_frame_402.jpg', img_size=640, conf_thres=0.25, iou_thres=0.45, device='', view_img=False, save_txt=False, save_conf=False, nosave=False, classes=None, agnostic_nms=False, augment=False, update=False, project='runs/detect', name='exp', exist_ok=False, no_trace=False)\n",
      "Fusing layers... \n",
      "RepConv.fuse_repvgg_block\n",
      "RepConv.fuse_repvgg_block\n",
      "RepConv.fuse_repvgg_block\n",
      "IDetect.fuse\n",
      " Convert model to Traced-model... \n",
      " traced_script_module saved! \n",
      " model is traced! \n",
      "\n",
      "4 Products, Done. (1088.0ms) Inference, (17.3ms) NMS\n",
      " The image with the result is saved in: runs\\detect\\exp\\Liverpool_cam04_630_Clip2_vk1_integrated_15_08_23_frame_402.jpg\n",
      "Done. (1.296s)\n"
     ]
    },
    {
     "name": "stderr",
     "output_type": "stream",
     "text": [
      "YOLOR  e214cb3 torch 2.0.1+cpu CPU\n",
      "\n",
      "Model Summary: 314 layers, 36497954 parameters, 6194944 gradients\n",
      "C:\\Users\\prana\\AppData\\Roaming\\Python\\Python311\\site-packages\\torch\\functional.py:504: UserWarning: torch.meshgrid: in an upcoming release, it will be required to pass the indexing argument. (Triggered internally at ..\\aten\\src\\ATen\\native\\TensorShape.cpp:3484.)\n",
      "  return _VF.meshgrid(tensors, **kwargs)  # type: ignore[attr-defined]\n"
     ]
    }
   ],
   "source": [
    "!python detect.py --source C:\\Users\\prana\\Desktop\\Internship\\yolov7\\custom_test_1\\Liverpool_cam04_630_Clip2_vk1_integrated_15_08_23_frame_402.jpg --weights runs\\train\\exp\\weights\\best.pt"
   ]
  },
  {
   "cell_type": "code",
   "execution_count": null,
   "metadata": {},
   "outputs": [],
   "source": [
    "from IPython.display import Image\n",
    "Image(filename = r'runs\\detect\\exp\\Liverpool_cam04_630_Clip2_vk1_integrated_15_08_23_frame_402.jpg', width = 640)"
   ]
  }
 ],
 "metadata": {
  "kernelspec": {
   "display_name": "Python 3",
   "language": "python",
   "name": "python3"
  },
  "language_info": {
   "codemirror_mode": {
    "name": "ipython",
    "version": 3
   },
   "file_extension": ".py",
   "mimetype": "text/x-python",
   "name": "python",
   "nbconvert_exporter": "python",
   "pygments_lexer": "ipython3",
   "version": "3.11.4"
  },
  "orig_nbformat": 4
 },
 "nbformat": 4,
 "nbformat_minor": 2
}
