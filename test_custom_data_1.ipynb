{
 "cells": [
  {
   "cell_type": "code",
   "execution_count": 6,
   "metadata": {},
   "outputs": [
    {
     "name": "stderr",
     "output_type": "stream",
     "text": [
      "usage: detect.py [-h] [--weights WEIGHTS [WEIGHTS ...]] [--source SOURCE]\n",
      "                 [--img-size IMG_SIZE] [--conf-thres CONF_THRES]\n",
      "                 [--iou-thres IOU_THRES] [--device DEVICE] [--view-img]\n",
      "                 [--save-txt] [--save-conf] [--nosave]\n",
      "                 [--classes CLASSES [CLASSES ...]] [--agnostic-nms]\n",
      "                 [--augment] [--update] [--project PROJECT] [--name NAME]\n",
      "                 [--exist-ok] [--no-trace]\n",
      "detect.py: error: unrecognized arguments: Liverpool_cam04_630_Clip2_vk1_integrated_15_08_23_frame_402.jpg\n"
     ]
    }
   ],
   "source": [
    "!python detect.py --source C:\\Users\\prana\\Desktop\\Internship\\yolov7\\custom_dataset_1\\val\\images Liverpool_cam04_630_Clip2_vk1_integrated_15_08_23_frame_402.jpg --weights runs\\train\\exp\\weights\\best.pt"
   ]
  },
  {
   "cell_type": "code",
   "execution_count": 7,
   "metadata": {},
   "outputs": [
    {
     "name": "stderr",
     "output_type": "stream",
     "text": [
      "usage: detect.py [-h] [--weights WEIGHTS [WEIGHTS ...]] [--source SOURCE]\n",
      "                 [--img-size IMG_SIZE] [--conf-thres CONF_THRES]\n",
      "                 [--iou-thres IOU_THRES] [--device DEVICE] [--view-img]\n",
      "                 [--save-txt] [--save-conf] [--nosave]\n",
      "                 [--classes CLASSES [CLASSES ...]] [--agnostic-nms]\n",
      "                 [--augment] [--update] [--project PROJECT] [--name NAME]\n",
      "                 [--exist-ok] [--no-trace]\n",
      "detect.py: error: unrecognized arguments: Liverpool_cam04_630_Clip2_vk1_integrated_15_08_23_frame_403.jpg\n"
     ]
    }
   ],
   "source": [
    "!python detect.py --source C:\\Users\\prana\\Desktop\\Internship\\yolov7\\custom_dataset_1\\val\\images Liverpool_cam04_630_Clip2_vk1_integrated_15_08_23_frame_403.jpg --weights runs\\train\\exp\\weights\\best.pt"
   ]
  },
  {
   "cell_type": "code",
   "execution_count": 8,
   "metadata": {},
   "outputs": [
    {
     "name": "stderr",
     "output_type": "stream",
     "text": [
      "usage: detect.py [-h] [--weights WEIGHTS [WEIGHTS ...]] [--source SOURCE]\n",
      "                 [--img-size IMG_SIZE] [--conf-thres CONF_THRES]\n",
      "                 [--iou-thres IOU_THRES] [--device DEVICE] [--view-img]\n",
      "                 [--save-txt] [--save-conf] [--nosave]\n",
      "                 [--classes CLASSES [CLASSES ...]] [--agnostic-nms]\n",
      "                 [--augment] [--update] [--project PROJECT] [--name NAME]\n",
      "                 [--exist-ok] [--no-trace]\n",
      "detect.py: error: unrecognized arguments: Liverpool_cam04_630_Clip2_vk1_integrated_15_08_23_frame_650.jpg\n"
     ]
    }
   ],
   "source": [
    "!python detect.py --source C:\\Users\\prana\\Desktop\\Internship\\yolov7\\custom_dataset_1\\val\\images Liverpool_cam04_630_Clip2_vk1_integrated_15_08_23_frame_650.jpg --weights runs\\train\\exp\\weights\\best.pt"
   ]
  },
  {
   "cell_type": "code",
   "execution_count": 9,
   "metadata": {},
   "outputs": [
    {
     "name": "stderr",
     "output_type": "stream",
     "text": [
      "usage: detect.py [-h] [--weights WEIGHTS [WEIGHTS ...]] [--source SOURCE]\n",
      "                 [--img-size IMG_SIZE] [--conf-thres CONF_THRES]\n",
      "                 [--iou-thres IOU_THRES] [--device DEVICE] [--view-img]\n",
      "                 [--save-txt] [--save-conf] [--nosave]\n",
      "                 [--classes CLASSES [CLASSES ...]] [--agnostic-nms]\n",
      "                 [--augment] [--update] [--project PROJECT] [--name NAME]\n",
      "                 [--exist-ok] [--no-trace]\n",
      "detect.py: error: unrecognized arguments: Liverpool_cam04_630_Clip2_vk1_integrated_15_08_23_frame_651.jpg\n"
     ]
    }
   ],
   "source": [
    "!python detect.py --source C:\\Users\\prana\\Desktop\\Internship\\yolov7\\custom_dataset_1\\val\\images Liverpool_cam04_630_Clip2_vk1_integrated_15_08_23_frame_651.jpg --weights runs\\train\\exp\\weights\\best.pt"
   ]
  }
 ],
 "metadata": {
  "kernelspec": {
   "display_name": "Python 3",
   "language": "python",
   "name": "python3"
  },
  "language_info": {
   "codemirror_mode": {
    "name": "ipython",
    "version": 3
   },
   "file_extension": ".py",
   "mimetype": "text/x-python",
   "name": "python",
   "nbconvert_exporter": "python",
   "pygments_lexer": "ipython3",
   "version": "3.11.4"
  },
  "orig_nbformat": 4
 },
 "nbformat": 4,
 "nbformat_minor": 2
}
