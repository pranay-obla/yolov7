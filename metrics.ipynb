{
 "cells": [
  {
   "cell_type": "code",
   "execution_count": 95,
   "metadata": {},
   "outputs": [],
   "source": [
    "import numpy as np\n",
    "import pandas as pd\n",
    "from sklearn.metrics import confusion_matrix, classification_report, accuracy_score, precision_score, recall_score, f1_score"
   ]
  },
  {
   "cell_type": "code",
   "execution_count": 96,
   "metadata": {},
   "outputs": [
    {
     "data": {
      "text/plain": [
       "array([[1, 3, 1, 0],\n",
       "       [1, 3, 1, 0],\n",
       "       [1, 3, 1, 0],\n",
       "       [1, 4, 1, 0],\n",
       "       [1, 4, 1, 0],\n",
       "       [1, 4, 1, 0],\n",
       "       [1, 4, 1, 0],\n",
       "       [1, 7, 2, 1],\n",
       "       [1, 7, 2, 1],\n",
       "       [1, 7, 2, 1]])"
      ]
     },
     "execution_count": 96,
     "metadata": {},
     "output_type": "execute_result"
    }
   ],
   "source": [
    "y_true = [\n",
    "    [1, 3, 1, 0],\n",
    "    [1, 3, 1, 0],\n",
    "    [1, 3, 1, 0],\n",
    "    [1, 4, 1, 0],\n",
    "    [1, 4, 1, 0],\n",
    "    [1, 4, 1, 0],\n",
    "    [1, 4, 1, 0],\n",
    "    [1, 7, 2, 1],\n",
    "    [1, 7, 2, 1],\n",
    "    [1, 7, 2, 1]\n",
    "]\n",
    "#y_true = np.ravel(y_true)\n",
    "y_true = np.array(y_true)\n",
    "y_true"
   ]
  },
  {
   "cell_type": "code",
   "execution_count": 97,
   "metadata": {},
   "outputs": [
    {
     "data": {
      "text/plain": [
       "array([[0, 2, 0, 0],\n",
       "       [0, 2, 0, 0],\n",
       "       [0, 2, 0, 0],\n",
       "       [0, 4, 0, 0],\n",
       "       [0, 4, 0, 0],\n",
       "       [0, 4, 0, 0],\n",
       "       [0, 4, 0, 0],\n",
       "       [1, 4, 0, 0],\n",
       "       [0, 4, 0, 0],\n",
       "       [1, 4, 0, 0]])"
      ]
     },
     "execution_count": 97,
     "metadata": {},
     "output_type": "execute_result"
    }
   ],
   "source": [
    "y_pred = [\n",
    "    [0, 2, 0, 0],\n",
    "    [0, 2, 0, 0],\n",
    "    [0, 2, 0, 0],\n",
    "    [0, 4, 0, 0],\n",
    "    [0, 4, 0, 0],\n",
    "    [0, 4, 0, 0],\n",
    "    [0, 4, 0, 0],\n",
    "    [1, 4, 0, 0],\n",
    "    [0, 4, 0, 0],\n",
    "    [1, 4, 0, 0]\n",
    "]\n",
    "#y_pred = np.ravel(y_pred)\n",
    "y_pred = np.array(y_pred)\n",
    "y_pred"
   ]
  },
  {
   "cell_type": "code",
   "execution_count": 98,
   "metadata": {},
   "outputs": [],
   "source": [
    "tp = 0\n",
    "fp = 0\n",
    "tn = 0\n",
    "fn = 0\n",
    "for i in range(0, len(y_true)):\n",
    "    for j in range(0, 4):\n",
    "        if y_true[i][j] > 0:\n",
    "            if y_true[i][j] >= y_pred[i][j]:\n",
    "                diff = abs(y_true[i][j] - y_pred[i][j])\n",
    "                tp += y_pred[i][j]\n",
    "                fn += diff\n",
    "            else:\n",
    "                diff = abs(y_true[i][j] - y_pred[i][j])\n",
    "                tp += y_true[i][j]\n",
    "                fp += diff\n",
    "        elif y_true[i][j] == 0:\n",
    "            if y_true[i][j] == y_pred[i][j]:\n",
    "                tn += 1\n",
    "            else:\n",
    "                fp += y_pred[i][j]"
   ]
  },
  {
   "cell_type": "code",
   "execution_count": 99,
   "metadata": {},
   "outputs": [
    {
     "data": {
      "text/plain": [
       "0.5"
      ]
     },
     "execution_count": 99,
     "metadata": {},
     "output_type": "execute_result"
    }
   ],
   "source": [
    "tpr = tp/(tp+fn)\n",
    "tpr"
   ]
  },
  {
   "cell_type": "code",
   "execution_count": 100,
   "metadata": {},
   "outputs": [
    {
     "data": {
      "text/plain": [
       "1.0"
      ]
     },
     "execution_count": 100,
     "metadata": {},
     "output_type": "execute_result"
    }
   ],
   "source": [
    "tnr = tn/(tn+fp) \n",
    "tnr"
   ]
  },
  {
   "cell_type": "code",
   "execution_count": 101,
   "metadata": {},
   "outputs": [
    {
     "data": {
      "text/plain": [
       "0.0"
      ]
     },
     "execution_count": 101,
     "metadata": {},
     "output_type": "execute_result"
    }
   ],
   "source": [
    "fpr = fp/(fp+tn)\n",
    "fpr"
   ]
  },
  {
   "cell_type": "code",
   "execution_count": 102,
   "metadata": {},
   "outputs": [
    {
     "data": {
      "text/plain": [
       "0.5"
      ]
     },
     "execution_count": 102,
     "metadata": {},
     "output_type": "execute_result"
    }
   ],
   "source": [
    "fnr = fn/(tp+fn)\n",
    "fnr"
   ]
  },
  {
   "cell_type": "code",
   "execution_count": 103,
   "metadata": {},
   "outputs": [
    {
     "data": {
      "text/plain": [
       "0.5972222222222222"
      ]
     },
     "execution_count": 103,
     "metadata": {},
     "output_type": "execute_result"
    }
   ],
   "source": [
    "accuracy = (tp+tn)/(tp+fp+fn+fp)\n",
    "accuracy"
   ]
  },
  {
   "cell_type": "code",
   "execution_count": 104,
   "metadata": {},
   "outputs": [
    {
     "data": {
      "text/plain": [
       "1.0"
      ]
     },
     "execution_count": 104,
     "metadata": {},
     "output_type": "execute_result"
    }
   ],
   "source": [
    "precision = tp/(tp+fp)\n",
    "precision"
   ]
  },
  {
   "cell_type": "code",
   "execution_count": 105,
   "metadata": {},
   "outputs": [
    {
     "data": {
      "text/plain": [
       "0.5"
      ]
     },
     "execution_count": 105,
     "metadata": {},
     "output_type": "execute_result"
    }
   ],
   "source": [
    "recall = tp/(tp+fn)\n",
    "recall"
   ]
  },
  {
   "cell_type": "code",
   "execution_count": 106,
   "metadata": {},
   "outputs": [
    {
     "data": {
      "text/plain": [
       "0.6666666666666666"
      ]
     },
     "execution_count": 106,
     "metadata": {},
     "output_type": "execute_result"
    }
   ],
   "source": [
    "f1 = (2*precision*recall)/(precision+recall)\n",
    "f1"
   ]
  }
 ],
 "metadata": {
  "kernelspec": {
   "display_name": "Python 3 (ipykernel)",
   "language": "python",
   "name": "python3"
  },
  "language_info": {
   "codemirror_mode": {
    "name": "ipython",
    "version": 3
   },
   "file_extension": ".py",
   "mimetype": "text/x-python",
   "name": "python",
   "nbconvert_exporter": "python",
   "pygments_lexer": "ipython3",
   "version": "3.11.4"
  }
 },
 "nbformat": 4,
 "nbformat_minor": 4
}
