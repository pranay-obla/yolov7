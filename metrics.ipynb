{
 "cells": [
  {
   "cell_type": "code",
   "execution_count": 48,
   "metadata": {},
   "outputs": [],
   "source": [
    "import numpy as np\n",
    "import pandas as pd\n",
    "from sklearn.metrics import confusion_matrix, classification_report, accuracy_score, precision_score, recall_score, f1_score"
   ]
  },
  {
   "cell_type": "code",
   "execution_count": 49,
   "metadata": {},
   "outputs": [
    {
     "data": {
      "text/plain": [
       "array([1, 3, 1, 0, 0, 1, 3, 1, 0, 0, 1, 3, 1, 0, 0, 1, 4, 1, 0, 0, 1, 4,\n",
       "       1, 0, 0, 1, 4, 1, 0, 0, 1, 4, 1, 0, 0, 1, 7, 2, 1, 0, 1, 7, 2, 1,\n",
       "       0, 1, 7, 2, 1, 0])"
      ]
     },
     "execution_count": 49,
     "metadata": {},
     "output_type": "execute_result"
    }
   ],
   "source": [
    "y_true = [\n",
    "    [1, 3, 1, 0, 0],\n",
    "    [1, 3, 1, 0, 0],\n",
    "    [1, 3, 1, 0, 0],\n",
    "    [1, 4, 1, 0, 0],\n",
    "    [1, 4, 1, 0, 0],\n",
    "    [1, 4, 1, 0, 0],\n",
    "    [1, 4, 1, 0, 0],\n",
    "    [1, 7, 2, 1, 0],\n",
    "    [1, 7, 2, 1, 0],\n",
    "    [1, 7, 2, 1, 0]\n",
    "]\n",
    "y_true = np.ravel(y_true)\n",
    "y_true"
   ]
  },
  {
   "cell_type": "code",
   "execution_count": 50,
   "metadata": {},
   "outputs": [
    {
     "data": {
      "text/plain": [
       "array([0, 2, 0, 0, 1, 0, 2, 0, 0, 1, 0, 2, 0, 0, 2, 0, 4, 0, 0, 0, 0, 4,\n",
       "       0, 0, 0, 0, 4, 0, 0, 0, 0, 4, 0, 0, 0, 1, 4, 0, 0, 1, 0, 4, 1, 0,\n",
       "       0, 1, 4, 1, 0, 0])"
      ]
     },
     "execution_count": 50,
     "metadata": {},
     "output_type": "execute_result"
    }
   ],
   "source": [
    "y_pred = [\n",
    "    [0, 2, 0, 0, 1],\n",
    "    [0, 2, 0, 0, 1],\n",
    "    [0, 2, 0, 0, 2],\n",
    "    [0, 4, 0, 0, 0],\n",
    "    [0, 4, 0, 0, 0],\n",
    "    [0, 4, 0, 0, 0],\n",
    "    [0, 4, 0, 0, 0],\n",
    "    [1, 4, 0, 0, 1],\n",
    "    [0, 4, 1, 0, 0],\n",
    "    [1, 4, 1, 0, 0]\n",
    "]\n",
    "y_pred = np.ravel(y_pred)\n",
    "y_pred"
   ]
  },
  {
   "cell_type": "code",
   "execution_count": 51,
   "metadata": {},
   "outputs": [
    {
     "data": {
      "text/plain": [
       "array([[13,  3,  1,  0,  0,  0],\n",
       "       [18,  2,  0,  0,  0,  0],\n",
       "       [ 1,  2,  0,  0,  0,  0],\n",
       "       [ 0,  0,  3,  0,  0,  0],\n",
       "       [ 0,  0,  0,  0,  4,  0],\n",
       "       [ 0,  0,  0,  0,  3,  0]], dtype=int64)"
      ]
     },
     "execution_count": 51,
     "metadata": {},
     "output_type": "execute_result"
    }
   ],
   "source": [
    "cm = confusion_matrix(y_true, y_pred)\n",
    "cm"
   ]
  },
  {
   "cell_type": "code",
   "execution_count": 52,
   "metadata": {},
   "outputs": [
    {
     "name": "stdout",
     "output_type": "stream",
     "text": [
      "\n",
      "Classification Report:\n",
      "              precision    recall  f1-score   support\n",
      "\n",
      "           0       0.41      0.76      0.53        17\n",
      "           1       0.29      0.10      0.15        20\n",
      "           2       0.00      0.00      0.00         3\n",
      "           3       0.00      0.00      0.00         3\n",
      "           4       0.57      1.00      0.73         4\n",
      "           7       0.00      0.00      0.00         3\n",
      "\n",
      "    accuracy                           0.38        50\n",
      "   macro avg       0.21      0.31      0.23        50\n",
      "weighted avg       0.30      0.38      0.30        50\n",
      "\n"
     ]
    },
    {
     "name": "stderr",
     "output_type": "stream",
     "text": [
      "C:\\Users\\prana\\AppData\\Roaming\\Python\\Python311\\site-packages\\sklearn\\metrics\\_classification.py:1469: UndefinedMetricWarning: Precision and F-score are ill-defined and being set to 0.0 in labels with no predicted samples. Use `zero_division` parameter to control this behavior.\n",
      "  _warn_prf(average, modifier, msg_start, len(result))\n",
      "C:\\Users\\prana\\AppData\\Roaming\\Python\\Python311\\site-packages\\sklearn\\metrics\\_classification.py:1469: UndefinedMetricWarning: Precision and F-score are ill-defined and being set to 0.0 in labels with no predicted samples. Use `zero_division` parameter to control this behavior.\n",
      "  _warn_prf(average, modifier, msg_start, len(result))\n",
      "C:\\Users\\prana\\AppData\\Roaming\\Python\\Python311\\site-packages\\sklearn\\metrics\\_classification.py:1469: UndefinedMetricWarning: Precision and F-score are ill-defined and being set to 0.0 in labels with no predicted samples. Use `zero_division` parameter to control this behavior.\n",
      "  _warn_prf(average, modifier, msg_start, len(result))\n"
     ]
    }
   ],
   "source": [
    "target_names = np.array(['Swipe_machine', 'Product', 'Person', 'Head', 'Background'])\n",
    "classification_rep = classification_report(y_true, y_pred)\n",
    "\n",
    "print(\"\\nClassification Report:\")\n",
    "print(classification_rep)"
   ]
  },
  {
   "cell_type": "code",
   "execution_count": null,
   "metadata": {},
   "outputs": [],
   "source": [
    "accuracy = accuracy_score(y_true, y_pred)\n",
    "print('Accuracy:', accuracy)"
   ]
  },
  {
   "cell_type": "code",
   "execution_count": null,
   "metadata": {},
   "outputs": [],
   "source": [
    "precision = precision_score(y_true, y_pred)\n",
    "print('Precision:', precision)"
   ]
  },
  {
   "cell_type": "code",
   "execution_count": null,
   "metadata": {},
   "outputs": [],
   "source": [
    "recall = recall_score(y_true, y_pred)\n",
    "print('Recall:', recall)"
   ]
  },
  {
   "cell_type": "code",
   "execution_count": null,
   "metadata": {},
   "outputs": [],
   "source": [
    "f1_score = f1_score(y_true, y_pred)\n",
    "print('F1 score:', f1_score)"
   ]
  }
 ],
 "metadata": {
  "kernelspec": {
   "display_name": "Python 3 (ipykernel)",
   "language": "python",
   "name": "python3"
  },
  "language_info": {
   "codemirror_mode": {
    "name": "ipython",
    "version": 3
   },
   "file_extension": ".py",
   "mimetype": "text/x-python",
   "name": "python",
   "nbconvert_exporter": "python",
   "pygments_lexer": "ipython3",
   "version": "3.11.4"
  }
 },
 "nbformat": 4,
 "nbformat_minor": 4
}
