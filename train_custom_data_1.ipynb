{
 "cells": [
  {
   "cell_type": "code",
   "execution_count": 1,
   "metadata": {},
   "outputs": [
    {
     "name": "stderr",
     "output_type": "stream",
     "text": [
      "Traceback (most recent call last):\n",
      "  File \"c:\\Users\\prana\\Desktop\\Internship\\yolov7\\train.py\", line 587, in <module>\n",
      "    opt.data, opt.cfg, opt.hyp = check_file(opt.data), check_file(opt.cfg), check_file(opt.hyp)  # check files\n",
      "                                                       ^^^^^^^^^^^^^^^^^^^\n",
      "  File \"c:\\Users\\prana\\Desktop\\Internship\\yolov7\\utils\\general.py\", line 151, in check_file\n",
      "    assert len(files), f'File Not Found: {file}'  # assert file was found\n",
      "    ^^^^^^^^^^^^^^^^^^^^^^^^^^^^^^^^^^^^^^^^^^^^\n",
      "AssertionError: File Not Found: cfg/training/yolov7-custom1.yaml\n"
     ]
    }
   ],
   "source": [
    "!python train.py --workers 8 --batch-size 8 --epochs 20 --img-size 640 640 --save_period 10 --data data\\custom1.yaml --weights yolov7.pt --cfg cfg\\training\\yolov7_custom1.yaml --freeze 10"
   ]
  }
 ],
 "metadata": {
  "kernelspec": {
   "display_name": "Python 3",
   "language": "python",
   "name": "python3"
  },
  "language_info": {
   "codemirror_mode": {
    "name": "ipython",
    "version": 3
   },
   "file_extension": ".py",
   "mimetype": "text/x-python",
   "name": "python",
   "nbconvert_exporter": "python",
   "pygments_lexer": "ipython3",
   "version": "3.11.4"
  },
  "orig_nbformat": 4
 },
 "nbformat": 4,
 "nbformat_minor": 2
}
