{
 "cells": [
  {
   "cell_type": "code",
   "execution_count": 32,
   "metadata": {},
   "outputs": [],
   "source": [
    "import numpy as np\n",
    "import matplotlib.pyplot as plt"
   ]
  },
  {
   "cell_type": "code",
   "execution_count": 33,
   "metadata": {},
   "outputs": [],
   "source": [
    "def get_metrics(confusion_matrix, p_curve, r_curve, pr_curve, result_curve):\n",
    "    accuracy = np.sum(confusion_matrix.diag()) / np.sum(confusion_matrix)\n",
    "    precision = np.diag(confusion_matrix) / np.sum(confusion_matrix, 1)\n",
    "    recall = np.diag(confusion_matrix) / np.sum(confusion_matrix, 0)\n",
    "    f1_score = 2 * precision * recall / (precision + recall)\n",
    "\n",
    "    return accuracy, precision, recall, f1_score"
   ]
  },
  {
   "cell_type": "code",
   "execution_count": 34,
   "metadata": {},
   "outputs": [],
   "source": [
    "def main():\n",
    "    confusion_matrix = plt.imread(r'inference\\confusion_matrix.png')\n",
    "    p_curve = plt.imread(r'inference\\P_curve.png')\n",
    "    r_curve = plt.imread(r'inference\\R_curve.png')\n",
    "    pr_curve = plt.imread(r'inference\\PR_curve.png')\n",
    "    result_curve = plt.imread(r'inference\\results.png')\n",
    "\n",
    "    accuracy, precision, recall, f1_score = get_metrics(confusion_matrix, p_curve, r_curve, pr_curve, result_curve)\n",
    "\n",
    "    print('Accuracy:', accuracy)\n",
    "    print('Precision:', precision)\n",
    "    print('Recall:', recall)\n",
    "    print('F1 score:', f1_score)"
   ]
  },
  {
   "cell_type": "code",
   "execution_count": 35,
   "metadata": {},
   "outputs": [
    {
     "ename": "AttributeError",
     "evalue": "'numpy.ndarray' object has no attribute 'diag'",
     "output_type": "error",
     "traceback": [
      "\u001b[1;31m---------------------------------------------------------------------------\u001b[0m",
      "\u001b[1;31mAttributeError\u001b[0m                            Traceback (most recent call last)",
      "Cell \u001b[1;32mIn[35], line 2\u001b[0m\n\u001b[0;32m      1\u001b[0m \u001b[39mif\u001b[39;00m \u001b[39m__name__\u001b[39m \u001b[39m==\u001b[39m \u001b[39m'\u001b[39m\u001b[39m__main__\u001b[39m\u001b[39m'\u001b[39m:\n\u001b[1;32m----> 2\u001b[0m     main()\n",
      "Cell \u001b[1;32mIn[34], line 8\u001b[0m, in \u001b[0;36mmain\u001b[1;34m()\u001b[0m\n\u001b[0;32m      5\u001b[0m pr_curve \u001b[39m=\u001b[39m plt\u001b[39m.\u001b[39mimread(\u001b[39mr\u001b[39m\u001b[39m'\u001b[39m\u001b[39minference\u001b[39m\u001b[39m\\\u001b[39m\u001b[39mPR_curve.png\u001b[39m\u001b[39m'\u001b[39m)\n\u001b[0;32m      6\u001b[0m result_curve \u001b[39m=\u001b[39m plt\u001b[39m.\u001b[39mimread(\u001b[39mr\u001b[39m\u001b[39m'\u001b[39m\u001b[39minference\u001b[39m\u001b[39m\\\u001b[39m\u001b[39mresults.png\u001b[39m\u001b[39m'\u001b[39m)\n\u001b[1;32m----> 8\u001b[0m accuracy, precision, recall, f1_score \u001b[39m=\u001b[39m get_metrics(confusion_matrix, p_curve, r_curve, pr_curve, result_curve)\n\u001b[0;32m     10\u001b[0m \u001b[39mprint\u001b[39m(\u001b[39m'\u001b[39m\u001b[39mAccuracy:\u001b[39m\u001b[39m'\u001b[39m, accuracy)\n\u001b[0;32m     11\u001b[0m \u001b[39mprint\u001b[39m(\u001b[39m'\u001b[39m\u001b[39mPrecision:\u001b[39m\u001b[39m'\u001b[39m, precision)\n",
      "Cell \u001b[1;32mIn[33], line 2\u001b[0m, in \u001b[0;36mget_metrics\u001b[1;34m(confusion_matrix, p_curve, r_curve, pr_curve, result_curve)\u001b[0m\n\u001b[0;32m      1\u001b[0m \u001b[39mdef\u001b[39;00m \u001b[39mget_metrics\u001b[39m(confusion_matrix, p_curve, r_curve, pr_curve, result_curve):\n\u001b[1;32m----> 2\u001b[0m     accuracy \u001b[39m=\u001b[39m np\u001b[39m.\u001b[39msum(confusion_matrix\u001b[39m.\u001b[39;49mdiag()) \u001b[39m/\u001b[39m np\u001b[39m.\u001b[39msum(confusion_matrix)\n\u001b[0;32m      3\u001b[0m     precision \u001b[39m=\u001b[39m np\u001b[39m.\u001b[39mdiag(confusion_matrix) \u001b[39m/\u001b[39m np\u001b[39m.\u001b[39msum(confusion_matrix, \u001b[39m1\u001b[39m)\n\u001b[0;32m      4\u001b[0m     recall \u001b[39m=\u001b[39m np\u001b[39m.\u001b[39mdiag(confusion_matrix) \u001b[39m/\u001b[39m np\u001b[39m.\u001b[39msum(confusion_matrix, \u001b[39m0\u001b[39m)\n",
      "\u001b[1;31mAttributeError\u001b[0m: 'numpy.ndarray' object has no attribute 'diag'"
     ]
    }
   ],
   "source": [
    "if __name__ == '__main__':\n",
    "    main()"
   ]
  }
 ],
 "metadata": {
  "kernelspec": {
   "display_name": "Python 3",
   "language": "python",
   "name": "python3"
  },
  "language_info": {
   "codemirror_mode": {
    "name": "ipython",
    "version": 3
   },
   "file_extension": ".py",
   "mimetype": "text/x-python",
   "name": "python",
   "nbconvert_exporter": "python",
   "pygments_lexer": "ipython3",
   "version": "3.11.4"
  },
  "orig_nbformat": 4
 },
 "nbformat": 4,
 "nbformat_minor": 2
}
